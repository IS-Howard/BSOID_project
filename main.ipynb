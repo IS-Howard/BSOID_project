{
 "cells": [
  {
   "cell_type": "code",
   "execution_count": 1,
   "metadata": {},
   "outputs": [],
   "source": [
    "import numpy as np\n",
    "import os\n",
    "import joblib\n",
    "from bsoid_kit import *"
   ]
  },
  {
   "cell_type": "markdown",
   "metadata": {},
   "source": [
    "## Kit Usage"
   ]
  },
  {
   "cell_type": "code",
   "execution_count": 2,
   "metadata": {},
   "outputs": [
    {
     "name": "stderr",
     "output_type": "stream",
     "text": [
      "100%|██████████| 7/7 [00:00<00:00, 10.90it/s]\n"
     ]
    },
    {
     "name": "stdout",
     "output_type": "stream",
     "text": [
      "min cluster size:  18\n",
      "motions num:  18\n"
     ]
    },
    {
     "name": "stderr",
     "output_type": "stream",
     "text": [
      "c:\\Users\\x\\.conda\\envs\\bsoid\\lib\\site-packages\\sklearn\\model_selection\\_split.py:672: UserWarning: The least populated class in y has only 1 members, which is less than n_splits=5.\n",
      "  % (min_groups, self.n_splits)), UserWarning)\n"
     ]
    },
    {
     "name": "stdout",
     "output_type": "stream",
     "text": [
      "[0.89473684 0.94736842 1.         0.88888889 1.        ]\n"
     ]
    },
    {
     "name": "stderr",
     "output_type": "stream",
     "text": [
      "100%|██████████| 7/7 [00:00<00:00, 11.35it/s]\n"
     ]
    }
   ],
   "source": [
    "# feature extract from landmarks\n",
    "filename = r'./data/test.csv'\n",
    "landmarknum = 7\n",
    "framerate = 100\n",
    "feat = bsoidfeat(filename,landmarknum,framerate,savename='./output/test')\n",
    "# embedded features\n",
    "embeder, embeddings = embedfeat(feat, num_dimensions=10, savename='./output/test.embeder')\n",
    "# cluster\n",
    "min_c = 2\n",
    "motions = motion_cluster(embeddings, min_c)\n",
    "# classifier for motions\n",
    "clf = motion_clf(embeddings, motions, test_part=0.1, score=True, savename='./output/test.clf')\n",
    "# motion prediction (motion level labels)\n",
    "pred_motions = motion_predict(feat, embeder, clf)\n",
    "# frame shift prediction (frame level labels)\n",
    "labels_fs = bsoid_predict(filename, landmarknum, framerate, clf, embeder)"
   ]
  },
  {
   "cell_type": "code",
   "execution_count": 13,
   "metadata": {},
   "outputs": [
    {
     "data": {
      "text/plain": [
       "array([1, 1, 1, 1, 1, 1, 1, 1, 1, 1, 1, 1, 1, 1, 1, 1, 1, 1, 1, 1, 1, 1,\n",
       "       1, 1, 1, 1, 1, 1, 1, 1, 1, 1, 1, 1, 1, 1, 1, 1, 1, 1, 1, 1, 1, 1,\n",
       "       1, 1, 1, 1, 1, 1, 1, 1, 1, 1, 1, 1, 1, 1, 1, 1, 1, 1, 1, 1, 1, 1,\n",
       "       1, 1, 1, 1, 1, 1, 1, 1, 1, 1, 1, 1, 1, 1, 1, 1, 1, 1, 1, 1, 1, 1,\n",
       "       1, 1, 1, 1, 1, 1, 1, 1, 1, 1, 1, 1, 1, 1, 1, 1, 1, 1, 1, 1, 1, 1],\n",
       "      dtype=int64)"
      ]
     },
     "execution_count": 13,
     "metadata": {},
     "output_type": "execute_result"
    }
   ],
   "source": [
    "motions[np.where(motions==1)]"
   ]
  },
  {
   "cell_type": "markdown",
   "metadata": {},
   "source": [
    "## Processing multiple dataset"
   ]
  },
  {
   "cell_type": "code",
   "execution_count": 2,
   "metadata": {},
   "outputs": [],
   "source": [
    "root = r'C:\\Users\\x\\Desktop\\final\\bsoid\\control'\n",
    "outpath = r'./output'\n",
    "landmarknum = 7\n",
    "framerate = 60\n",
    "embeder_name = r'./output/f6.embeder'\n",
    "clf_name = r'./output/f6.clf'"
   ]
  },
  {
   "cell_type": "code",
   "execution_count": 3,
   "metadata": {},
   "outputs": [
    {
     "name": "stderr",
     "output_type": "stream",
     "text": [
      "100%|██████████| 7/7 [00:00<00:00, 10.99it/s]\n",
      "100%|██████████| 7/7 [00:00<00:00, 13.94it/s]\n",
      "100%|██████████| 7/7 [00:00<00:00, 11.76it/s]\n",
      "100%|██████████| 7/7 [00:00<00:00, 10.56it/s]\n",
      "100%|██████████| 7/7 [00:00<00:00, 12.11it/s]\n",
      "100%|██████████| 7/7 [00:00<00:00, 10.12it/s]\n",
      "100%|██████████| 7/7 [00:00<00:00,  9.90it/s]\n",
      "100%|██████████| 7/7 [00:00<00:00,  9.28it/s]\n",
      "100%|██████████| 7/7 [00:00<00:00, 11.24it/s]\n",
      "100%|██████████| 7/7 [00:00<00:00, 10.82it/s]\n",
      "100%|██████████| 7/7 [00:00<00:00, 17.47it/s]\n",
      "100%|██████████| 7/7 [00:00<00:00, 12.89it/s]\n",
      "100%|██████████| 7/7 [00:00<00:00, 11.55it/s]\n",
      "100%|██████████| 7/7 [00:00<00:00, 13.08it/s]\n",
      "100%|██████████| 7/7 [00:00<00:00, 11.52it/s]\n",
      "100%|██████████| 7/7 [00:00<00:00,  7.47it/s]\n"
     ]
    }
   ],
   "source": [
    "files = os.listdir(root)\n",
    "if not os.path.isdir(outpath):\n",
    "    os.makedirs(outpath)\n",
    "feats = []\n",
    "for file in files:\n",
    "    filename = root+'/'+file\n",
    "    feat = bsoidfeat(filename,landmarknum,framerate)\n",
    "    if len(feats)==0:\n",
    "        feats = feat\n",
    "    else:\n",
    "        feats = np.concatenate([feats, feat])"
   ]
  },
  {
   "cell_type": "code",
   "execution_count": 4,
   "metadata": {},
   "outputs": [
    {
     "name": "stdout",
     "output_type": "stream",
     "text": [
      "min cluster size:  45\n",
      "motions num:  14\n"
     ]
    },
    {
     "name": "stderr",
     "output_type": "stream",
     "text": [
      "c:\\Users\\x\\.conda\\envs\\bsoid\\lib\\site-packages\\sklearn\\model_selection\\_split.py:672: UserWarning: The least populated class in y has only 3 members, which is less than n_splits=5.\n",
      "  % (min_groups, self.n_splits)), UserWarning)\n"
     ]
    },
    {
     "name": "stdout",
     "output_type": "stream",
     "text": [
      "[0.97777778 0.95555556 0.97777778 0.91111111 0.97727273]\n"
     ]
    }
   ],
   "source": [
    "embeder, embeddings = embedfeat(feat, num_dimensions=None, savename=embeder_name)\n",
    "min_c = 2\n",
    "motions = motion_cluster(embeddings, min_c)\n",
    "clf = motion_clf(embeddings, motions, test_part=0.1, score=True, savename=clf_name)"
   ]
  },
  {
   "cell_type": "code",
   "execution_count": 6,
   "metadata": {},
   "outputs": [
    {
     "name": "stdout",
     "output_type": "stream",
     "text": [
      "14\n",
      "4\n"
     ]
    }
   ],
   "source": [
    "print(len(clf.classes_))\n",
    "print(embeddings.shape[1])"
   ]
  },
  {
   "cell_type": "code",
   "execution_count": null,
   "metadata": {},
   "outputs": [],
   "source": []
  }
 ],
 "metadata": {
  "interpreter": {
   "hash": "ab4fce4da36998e8a3784a3b1ea772373c07eedc86da55b2021be344f3473b8a"
  },
  "kernelspec": {
   "display_name": "Python 3.7.4 ('bsoid')",
   "language": "python",
   "name": "python3"
  },
  "language_info": {
   "codemirror_mode": {
    "name": "ipython",
    "version": 3
   },
   "file_extension": ".py",
   "mimetype": "text/x-python",
   "name": "python",
   "nbconvert_exporter": "python",
   "pygments_lexer": "ipython3",
   "version": "3.7.4"
  },
  "orig_nbformat": 4
 },
 "nbformat": 4,
 "nbformat_minor": 2
}
