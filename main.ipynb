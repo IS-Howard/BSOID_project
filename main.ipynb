{
 "cells": [
  {
   "cell_type": "code",
   "execution_count": 1,
   "metadata": {},
   "outputs": [],
   "source": [
    "import numpy as np\n",
    "import os\n",
    "import joblib\n",
    "from bsoid_kit import *"
   ]
  },
  {
   "cell_type": "markdown",
   "metadata": {},
   "source": [
    "### Kit Usage"
   ]
  },
  {
   "cell_type": "code",
   "execution_count": null,
   "metadata": {},
   "outputs": [],
   "source": [
    "# feature extract from landmarks\n",
    "filename = r'./data/test.csv'\n",
    "landmarknum = 7\n",
    "framerate = 100\n",
    "savename = r'./output/test.feat'\n",
    "feat = bsoidfeat(filename,landmarknum,framerate,savename)\n",
    "# embedded features\n",
    "embeder, embeddings = embedfeat(feat, num_dimensions=10)\n",
    "# cluster\n",
    "min_c = 2\n",
    "motions = motion_cluster(embeddings, min_c)\n",
    "# classifier for motions\n",
    "clf = motion_clf(embeddings, motions, test_part=0.1, score=True)\n",
    "# motion prediction\n",
    "pred_motions = motion_predict(feat, embeder, clf)"
   ]
  },
  {
   "cell_type": "markdown",
   "metadata": {},
   "source": [
    "### processing multiple dataset"
   ]
  },
  {
   "cell_type": "code",
   "execution_count": null,
   "metadata": {},
   "outputs": [],
   "source": []
  }
 ],
 "metadata": {
  "interpreter": {
   "hash": "ab4fce4da36998e8a3784a3b1ea772373c07eedc86da55b2021be344f3473b8a"
  },
  "kernelspec": {
   "display_name": "Python 3.7.4 ('bsoid')",
   "language": "python",
   "name": "python3"
  },
  "language_info": {
   "codemirror_mode": {
    "name": "ipython",
    "version": 3
   },
   "file_extension": ".py",
   "mimetype": "text/x-python",
   "name": "python",
   "nbconvert_exporter": "python",
   "pygments_lexer": "ipython3",
   "version": "3.7.4"
  },
  "orig_nbformat": 4
 },
 "nbformat": 4,
 "nbformat_minor": 2
}
