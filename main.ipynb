{
 "cells": [
  {
   "cell_type": "code",
   "execution_count": 1,
   "metadata": {},
   "outputs": [],
   "source": [
    "import numpy as np\n",
    "import os\n",
    "import joblib\n",
    "from bsoid_kit import *"
   ]
  },
  {
   "cell_type": "markdown",
   "metadata": {},
   "source": [
    "## Kit Usage"
   ]
  },
  {
   "cell_type": "code",
   "execution_count": null,
   "metadata": {},
   "outputs": [],
   "source": [
    "# feature extract from landmarks\n",
    "filename = r'./data/test.csv'\n",
    "landmarknum = 7\n",
    "framerate = 100\n",
    "feat = bsoidfeat(filename,landmarknum,framerate,savename='./output/test')\n",
    "# embedded features\n",
    "embeder, embeddings = embedfeat(feat, num_dimensions=10, savename='./output/test.embeder')\n",
    "# cluster\n",
    "min_c = 2\n",
    "motions = motion_cluster(embeddings, min_c)\n",
    "# classifier for motions\n",
    "clf = motion_clf(embeddings, motions, test_part=0.1, score=True, savename='./output/test.clf')\n",
    "# motion prediction\n",
    "pred_motions = motion_predict(feat, embeder, clf)"
   ]
  },
  {
   "cell_type": "code",
   "execution_count": 13,
   "metadata": {},
   "outputs": [
    {
     "data": {
      "text/plain": [
       "array([1, 1, 1, 1, 1, 1, 1, 1, 1, 1, 1, 1, 1, 1, 1, 1, 1, 1, 1, 1, 1, 1,\n",
       "       1, 1, 1, 1, 1, 1, 1, 1, 1, 1, 1, 1, 1, 1, 1, 1, 1, 1, 1, 1, 1, 1,\n",
       "       1, 1, 1, 1, 1, 1, 1, 1, 1, 1, 1, 1, 1, 1, 1, 1, 1, 1, 1, 1, 1, 1,\n",
       "       1, 1, 1, 1, 1, 1, 1, 1, 1, 1, 1, 1, 1, 1, 1, 1, 1, 1, 1, 1, 1, 1,\n",
       "       1, 1, 1, 1, 1, 1, 1, 1, 1, 1, 1, 1, 1, 1, 1, 1, 1, 1, 1, 1, 1, 1],\n",
       "      dtype=int64)"
      ]
     },
     "execution_count": 13,
     "metadata": {},
     "output_type": "execute_result"
    }
   ],
   "source": [
    "motions[np.where(motions==1)]"
   ]
  },
  {
   "cell_type": "markdown",
   "metadata": {},
   "source": [
    "## Processing multiple dataset"
   ]
  },
  {
   "cell_type": "code",
   "execution_count": null,
   "metadata": {},
   "outputs": [],
   "source": [
    "root = r'C:\\Users\\x\\Desktop\\final\\bsoid\\control'\n",
    "outpath = r'./output'\n",
    "landmarknum = 7\n",
    "framerate = 100\n",
    "embeder_name = r'./output/f10.embeder'\n",
    "clf_name = r'./output/f10.clf'"
   ]
  },
  {
   "cell_type": "code",
   "execution_count": null,
   "metadata": {},
   "outputs": [],
   "source": [
    "files = os.listdir(root)\n",
    "if not os.path.isdir(outpath):\n",
    "    os.makedirs(outpath)\n",
    "feats = []\n",
    "for file in files:\n",
    "    filename = root+'/'+file\n",
    "    feat = bsoidfeat(filename,landmarknum,framerate)\n",
    "    if len(feats)==0:\n",
    "        feats = feat\n",
    "    else:\n",
    "        feats = np.concatenate([feats, feat])"
   ]
  },
  {
   "cell_type": "code",
   "execution_count": 6,
   "metadata": {},
   "outputs": [],
   "source": [
    "embeder, embeddings = embedfeat(feat, num_dimensions=None, savename=embeder_name)\n",
    "min_c = 2\n",
    "motions = motion_cluster(embeddings, min_c)\n",
    "clf = motion_clf(embeddings, motions, test_part=0.1, score=True, savename=clf_name)"
   ]
  },
  {
   "cell_type": "code",
   "execution_count": null,
   "metadata": {},
   "outputs": [],
   "source": []
  }
 ],
 "metadata": {
  "interpreter": {
   "hash": "ab4fce4da36998e8a3784a3b1ea772373c07eedc86da55b2021be344f3473b8a"
  },
  "kernelspec": {
   "display_name": "Python 3.7.4 ('bsoid')",
   "language": "python",
   "name": "python3"
  },
  "language_info": {
   "codemirror_mode": {
    "name": "ipython",
    "version": 3
   },
   "file_extension": ".py",
   "mimetype": "text/x-python",
   "name": "python",
   "nbconvert_exporter": "python",
   "pygments_lexer": "ipython3",
   "version": "3.7.4"
  },
  "orig_nbformat": 4
 },
 "nbformat": 4,
 "nbformat_minor": 2
}
